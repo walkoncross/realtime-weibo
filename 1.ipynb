{
 "cells": [
  {
   "cell_type": "code",
   "execution_count": 126,
   "metadata": {
    "ExecuteTime": {
     "end_time": "2017-10-20T08:18:49.953098Z",
     "start_time": "2017-10-20T08:18:49.908269Z"
    }
   },
   "outputs": [],
   "source": [
    "from selenium import webdriver\n",
    "from selenium.webdriver.common.desired_capabilities import DesiredCapabilities\n",
    "from scrapy import Selector\n",
    "import time,re,os\n",
    "import os.path\n",
    "import requests\n",
    "\n",
    "IMAGE_DIR=\"imgs/\"\n",
    "\n",
    "from IPython.display import HTML\n",
    "def get_driver():\n",
    "    driver = webdriver.PhantomJS()\n",
    "    dcap = dict(DesiredCapabilities.PHANTOMJS)\n",
    "    dcap[\"phantomjs.page.settings.userAgent\"] = (\"Mozilla/5.0 (Macintosh; Intel Mac OS X 10_12_6) AppleWebKit/537.36 (KHTML, like Gecko) Chrome/61.0.3163.100 Safari/537.36\")\n",
    "    #dcap[\"phantomjs.page.settings.resourceTimeout\"] = (\"1000\")\n",
    "    driver = webdriver.PhantomJS(service_args=['--load-images=no'], desired_capabilities=dcap)\n",
    "    return driver\n",
    "def get_weibo(uid):\n",
    "    driver.get(\"https://m.weibo.cn/p/\"+uid) \n",
    "    for i in range(100):\n",
    "        if driver.page_source.find(\"加载中\")!=-1:\n",
    "            time.sleep(0.1)\n",
    "        else:\n",
    "            break\n",
    "    text=driver.page_source\n",
    "    sel=Selector(text=text)\n",
    "    weibos = sel.css(\".card9 .weibo-media img::attr(src)\").extract()\n",
    "    weibos = [i for i in weibos if i.find(\"thumbnail\")==-1]\n",
    "    return weibos\n",
    "def get_filename(s):\n",
    "    r=re.search(r'[0-9a-zA-Z]{20,40}.*', s)\n",
    "    if r:\n",
    "        return r.group()\n",
    "    return str(time.time())+'.jpg'\n",
    "def write_file(url):\n",
    "    img=requests.get(url).content\n",
    "    with open(IMAGE_DIR+get_filename(url), 'wb') as f:\n",
    "        f.write(img)\n",
    "def write_files(urls):\n",
    "    imgs=set(os.listdir(IMAGE_DIR))\n",
    "    for url in urls:\n",
    "        if get_filename(url) in imgs:continue\n",
    "        print('write file', url)\n",
    "        write_file(url)\n",
    "        \n",
    "def auto_create():\n",
    "    if not os.path.isdir(IMAGE_DIR):\n",
    "        os.makedirs(IMAGE_DIR)"
   ]
  },
  {
   "cell_type": "code",
   "execution_count": 133,
   "metadata": {
    "ExecuteTime": {
     "end_time": "2017-10-20T08:24:27.729071Z",
     "start_time": "2017-10-20T08:23:34.803375Z"
    }
   },
   "outputs": [
    {
     "name": "stdout",
     "output_type": "stream",
     "text": [
      "write file https://wx2.sinaimg.cn/orj360/005Qhxjvgy1fkos5t6merj30qo0qojvk.jpg\n",
      "write file https://wx4.sinaimg.cn/orj360/005Qhxjvgy1fkorm86w9jj315c0v0ab4.jpg\n",
      "loop 1508487815.346169\n",
      "loop 1508487819.839787\n",
      "loop 1508487823.302475\n",
      "loop 1508487826.647478\n",
      "loop 1508487831.284619\n",
      "loop 1508487834.956322\n",
      "write file https://wx3.sinaimg.cn/orj360/005Qhxjvgy1fkosexqp3vj30qo0qon0h.jpg\n",
      "loop 1508487838.611632\n",
      "loop 1508487843.25069\n",
      "loop 1508487846.703084\n",
      "loop 1508487850.08256\n",
      "loop 1508487855.193894\n",
      "loop 1508487858.533754\n",
      "write file https://wx3.sinaimg.cn/orj360/005Qhxjvgy1fkosfckn4uj30qo0qojvl.jpg\n",
      "loop 1508487863.225606\n",
      "loop 1508487867.3212001\n"
     ]
    },
    {
     "ename": "KeyboardInterrupt",
     "evalue": "",
     "output_type": "error",
     "traceback": [
      "\u001b[0;31m---------------------------------------------------------------------------\u001b[0m",
      "\u001b[0;31mKeyboardInterrupt\u001b[0m                         Traceback (most recent call last)",
      "\u001b[0;32m<ipython-input-133-512c114e23e2>\u001b[0m in \u001b[0;36m<module>\u001b[0;34m()\u001b[0m\n\u001b[1;32m      5\u001b[0m     \u001b[0mwrite_files\u001b[0m\u001b[0;34m(\u001b[0m\u001b[0mimgs\u001b[0m\u001b[0;34m)\u001b[0m\u001b[0;34m\u001b[0m\u001b[0m\n\u001b[1;32m      6\u001b[0m     \u001b[0mprint\u001b[0m\u001b[0;34m(\u001b[0m\u001b[0;34m'loop'\u001b[0m\u001b[0;34m,\u001b[0m \u001b[0mtime\u001b[0m\u001b[0;34m.\u001b[0m\u001b[0mtime\u001b[0m\u001b[0;34m(\u001b[0m\u001b[0;34m)\u001b[0m\u001b[0;34m)\u001b[0m\u001b[0;34m\u001b[0m\u001b[0m\n\u001b[0;32m----> 7\u001b[0;31m     \u001b[0mtime\u001b[0m\u001b[0;34m.\u001b[0m\u001b[0msleep\u001b[0m\u001b[0;34m(\u001b[0m\u001b[0;36m3\u001b[0m\u001b[0;34m)\u001b[0m\u001b[0;34m\u001b[0m\u001b[0m\n\u001b[0m",
      "\u001b[0;31mKeyboardInterrupt\u001b[0m: "
     ]
    }
   ],
   "source": [
    "auto_create()\n",
    "uid=\"1005055353213269\"\n",
    "for i in range(100):\n",
    "    imgs=get_weibo(uid)\n",
    "    write_files(imgs)\n",
    "    print('loop', time.time())\n",
    "    time.sleep(3)"
   ]
  },
  {
   "cell_type": "code",
   "execution_count": null,
   "metadata": {
    "collapsed": true
   },
   "outputs": [],
   "source": []
  }
 ],
 "metadata": {
  "kernelspec": {
   "display_name": "Python 3",
   "language": "python",
   "name": "python3"
  },
  "language_info": {
   "codemirror_mode": {
    "name": "ipython",
    "version": 3
   },
   "file_extension": ".py",
   "mimetype": "text/x-python",
   "name": "python",
   "nbconvert_exporter": "python",
   "pygments_lexer": "ipython3",
   "version": "3.6.1"
  }
 },
 "nbformat": 4,
 "nbformat_minor": 2
}
